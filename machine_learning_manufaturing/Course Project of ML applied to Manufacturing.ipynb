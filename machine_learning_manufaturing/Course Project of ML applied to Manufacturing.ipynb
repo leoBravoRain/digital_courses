{
 "cells": [
  {
   "cell_type": "markdown",
   "metadata": {},
   "source": [
    "# Project: Analize the dataset of the power plant\n",
    "\n",
    "In this project you are going to analyze the dataset with we are working in this course, and try to get insights from the data!\n",
    "\n",
    "Follow the instructions en each block.\n",
    "\n",
    "I hope you enjoy it!"
   ]
  },
  {
   "cell_type": "markdown",
   "metadata": {},
   "source": [
    "# Load libraries"
   ]
  },
  {
   "cell_type": "code",
   "execution_count": 4,
   "metadata": {},
   "outputs": [],
   "source": [
    "import numpy\n",
    "import pandas\n",
    "import matplotlib.pyplot as plt\n",
    "import scipy.stats\n",
    "plt.style.use(\"bmh\")"
   ]
  },
  {
   "cell_type": "markdown",
   "metadata": {},
   "source": [
    "# Load data\n",
    "First step is get the data. So run the code"
   ]
  },
  {
   "cell_type": "code",
   "execution_count": 5,
   "metadata": {},
   "outputs": [],
   "source": [
    "# read excel file\n",
    "# Almost all files are in this format (or maybe .csv)\n",
    "df = pandas.read_excel(\"Folds5x2_pp.xlsx\")"
   ]
  },
  {
   "cell_type": "markdown",
   "metadata": {},
   "source": [
    "Try to get the first rows in the dataset."
   ]
  },
  {
   "cell_type": "code",
   "execution_count": 1,
   "metadata": {},
   "outputs": [],
   "source": [
    "# Write the code here"
   ]
  },
  {
   "cell_type": "markdown",
   "metadata": {},
   "source": [
    "Now, try to get basic statistics of the dataset. With these values you can start getting and idea of the data."
   ]
  },
  {
   "cell_type": "code",
   "execution_count": null,
   "metadata": {},
   "outputs": [],
   "source": [
    "# Write the code here"
   ]
  },
  {
   "cell_type": "markdown",
   "metadata": {},
   "source": [
    "# Analyzing correlations\n",
    "- To know the variables distribution is important and it uses to be the first step in data analysis.\n",
    "- Check the relation betweens differents variables"
   ]
  },
  {
   "cell_type": "markdown",
   "metadata": {},
   "source": [
    "Try to get the correlation between all the variables in the dataset (using a scatter matrix)"
   ]
  },
  {
   "cell_type": "code",
   "execution_count": null,
   "metadata": {},
   "outputs": [],
   "source": [
    "# Write the code here"
   ]
  },
  {
   "cell_type": "markdown",
   "metadata": {},
   "source": [
    "# Machine Learning models\n",
    "Now we are going to train a machine learning model."
   ]
  },
  {
   "cell_type": "markdown",
   "metadata": {},
   "source": [
    "But first, we are going to select the data (the independent and dependents variables):"
   ]
  },
  {
   "cell_type": "code",
   "execution_count": 6,
   "metadata": {},
   "outputs": [],
   "source": [
    "# Format data\n",
    "\n",
    "# Get the independt variables\n",
    "# here you can edit the code and select wharever variable you want\n",
    "X = df.loc[:, [\"AT\", \"V\", \"AP\", \"RH\"]]\n",
    "\n",
    "# Get the predictor (or dependent variable)\n",
    "y = df.loc[:, [\"PE\"]]"
   ]
  },
  {
   "cell_type": "markdown",
   "metadata": {},
   "source": [
    "In order to validate the correctitude of the dataset, try to plot the variables"
   ]
  },
  {
   "cell_type": "code",
   "execution_count": 9,
   "metadata": {},
   "outputs": [
    {
     "data": {
      "text/plain": [
       "<matplotlib.collections.PathCollection at 0x7feabf43f860>"
      ]
     },
     "execution_count": 9,
     "metadata": {},
     "output_type": "execute_result"
    },
    {
     "data": {
      "image/png": "[encoded data removed]",
      "text/plain": [
       "<Figure size 432x288 with 1 Axes>"
      ]
     },
     "metadata": {
      "needs_background": "light"
     },
     "output_type": "display_data"
    }
   ],
   "source": [
    "# plot some variables\n",
    "# for check the data is correct\n",
    "fig, ax = plt.subplots()\n",
    "\n",
    "# change the variable to plot (from X variable)\n",
    "ax.scatter(X.loc[:, \"AT\"], y)"
   ]
  },
  {
   "cell_type": "markdown",
   "metadata": {},
   "source": [
    "# Linear regression (Supervised learning)\n",
    "Now we are going to build a linear regressor"
   ]
  },
  {
   "cell_type": "markdown",
   "metadata": {},
   "source": [
    "# Univariate linear regressor\n",
    "f(x) = a*x_1 + b"
   ]
  },
  {
   "cell_type": "markdown",
   "metadata": {},
   "source": [
    "Define the model to use (LinearRegression) and train the model "
   ]
  },
  {
   "cell_type": "code",
   "execution_count": 7,
   "metadata": {},
   "outputs": [],
   "source": [
    "# load function to linear regression\n",
    "from sklearn.linear_model import LinearRegression\n",
    "\n",
    "# write the code here"
   ]
  },
  {
   "cell_type": "markdown",
   "metadata": {},
   "source": [
    "Get the R score to analyze if the model is good or not (score())"
   ]
  },
  {
   "cell_type": "markdown",
   "metadata": {},
   "source": [
    "# Plot the linear regressor on data \n",
    "Now that you have trained the model, it's a very good idea to plot and see the results.\n",
    "\n",
    "\n",
    "This only works for univariate linear regression"
   ]
  },
  {
   "cell_type": "code",
   "execution_count": null,
   "metadata": {},
   "outputs": [],
   "source": [
    "# plot variables\n",
    "fig, ax = plt.subplots()\n",
    "ax.scatter(X_train, y)\n",
    "\n",
    "# add lables to plots\n",
    "ax.set_xlabel(\"AT\")\n",
    "ax.set_ylabel(\"PE\")\n",
    "\n",
    "# ploting the line"
   ]
  },
  {
   "cell_type": "markdown",
   "metadata": {},
   "source": [
    "# Predictions with linear regression\n",
    "\n",
    "Now it's time to do predictions with your model"
   ]
  },
  {
   "cell_type": "code",
   "execution_count": 9,
   "metadata": {},
   "outputs": [],
   "source": [
    "# write your code here"
   ]
  }
 ],
 "metadata": {
  "kernelspec": {
   "display_name": "Python 3",
   "language": "python",
   "name": "python3"
  },
  "language_info": {
   "codemirror_mode": {
    "name": "ipython",
    "version": 3
   },
   "file_extension": ".py",
   "mimetype": "text/x-python",
   "name": "python",
   "nbconvert_exporter": "python",
   "pygments_lexer": "ipython3",
   "version": "3.7.6"
  }
 },
 "nbformat": 4,
 "nbformat_minor": 2
}
